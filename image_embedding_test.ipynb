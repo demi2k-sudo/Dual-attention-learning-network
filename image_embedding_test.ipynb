{
  "cells": [
    {
      "cell_type": "code",
      "execution_count": 1,
      "metadata": {},
      "outputs": [],
      "source": [
        "from Dataset.datasetTorch import MedicalVQADataset\n",
        "from torch.utils.data import DataLoader\n",
        "from torchvision import transforms\n",
        "import pandas as pd"
      ]
    },
    {
      "cell_type": "code",
      "execution_count": 2,
      "metadata": {},
      "outputs": [
        {
          "name": "stdout",
          "output_type": "stream",
          "text": [
            "torch.Size([16, 3, 224, 224]) 16 16\n",
            "torch.Size([16, 3, 224, 224]) 16 16\n",
            "torch.Size([16, 3, 224, 224]) 16 16\n"
          ]
        }
      ],
      "source": [
        "\n",
        "# Example usage:\n",
        "image_folder = r\"F:\\Research\\Implementation\\Dataset\\ImageClef-2019-VQA-Med-Training\\Train_images\"\n",
        "\n",
        "# Define the transformations: Convert the image to a tensor\n",
        "transform = transforms.Compose([\n",
        "    transforms.Resize((224, 224)),  # Resize to a fixed size (e.g., 224x224)\n",
        "    transforms.ToTensor(),  # Convert the image to a tensor\n",
        "])\n",
        "\n",
        "# Dataframe from the txt file\n",
        "def getDataset(path):\n",
        "    return pd.read_csv(path, sep='|', header=None, names=['image_id', 'question', 'answer'])\n",
        "\n",
        "df = getDataset(r\"F:\\Research\\Implementation\\Dataset\\ImageClef-2019-VQA-Med-Training\\QAPairsByCategory\\C3_Organ_train.txt\")\n",
        "\n",
        "dataset = MedicalVQADataset(df, image_folder, transform, device='cpu')\n",
        "\n",
        "# Create a DataLoader\n",
        "batch_size = 16\n",
        "dataloader = DataLoader(dataset, batch_size=batch_size, shuffle=True)\n",
        "\n",
        "# Example: Iterate through the DataLoader\n",
        "count = 0\n",
        "for batch in dataloader:\n",
        "    count+=1\n",
        "    if(count==4):\n",
        "        break\n",
        "    images, questions, answers = batch\n",
        "    print(images.size(), len(questions), len(answers))\n"
      ]
    },
    {
      "cell_type": "code",
      "execution_count": 3,
      "metadata": {},
      "outputs": [],
      "source": [
        "from ImageEncoder.model import ResnetCustom"
      ]
    },
    {
      "cell_type": "code",
      "execution_count": 4,
      "metadata": {},
      "outputs": [
        {
          "name": "stderr",
          "output_type": "stream",
          "text": [
            "C:\\Users\\Naboth Demetrius\\AppData\\Roaming\\Python\\Python311\\site-packages\\torchvision\\models\\_utils.py:208: UserWarning: The parameter 'pretrained' is deprecated since 0.13 and may be removed in the future, please use 'weights' instead.\n",
            "  warnings.warn(\n",
            "C:\\Users\\Naboth Demetrius\\AppData\\Roaming\\Python\\Python311\\site-packages\\torchvision\\models\\_utils.py:223: UserWarning: Arguments other than a weight enum or `None` for 'weights' are deprecated since 0.13 and may be removed in the future. The current behavior is equivalent to passing `weights=ResNet152_Weights.IMAGENET1K_V1`. You can also use `weights=ResNet152_Weights.DEFAULT` to get the most up-to-date weights.\n",
            "  warnings.warn(msg)\n"
          ]
        }
      ],
      "source": [
        "model = ResnetCustom(312).to('cpu')"
      ]
    },
    {
      "cell_type": "code",
      "execution_count": 5,
      "metadata": {},
      "outputs": [],
      "source": [
        "result = model(images)"
      ]
    },
    {
      "cell_type": "code",
      "execution_count": 6,
      "metadata": {},
      "outputs": [
        {
          "data": {
            "text/plain": [
              "torch.Size([16, 5, 312])"
            ]
          },
          "execution_count": 6,
          "metadata": {},
          "output_type": "execute_result"
        },
        {
          "ename": "",
          "evalue": "",
          "output_type": "error",
          "traceback": [
            "\u001b[1;31mThe Kernel crashed while executing code in the current cell or a previous cell. \n",
            "\u001b[1;31mPlease review the code in the cell(s) to identify a possible cause of the failure. \n",
            "\u001b[1;31mClick <a href='https://aka.ms/vscodeJupyterKernelCrash'>here</a> for more info. \n",
            "\u001b[1;31mView Jupyter <a href='command:jupyter.viewOutput'>log</a> for further details."
          ]
        }
      ],
      "source": [
        "result.shape"
      ]
    },
    {
      "cell_type": "code",
      "execution_count": null,
      "metadata": {},
      "outputs": [],
      "source": []
    }
  ],
  "metadata": {
    "kernelspec": {
      "display_name": "base",
      "language": "python",
      "name": "python3"
    },
    "language_info": {
      "codemirror_mode": {
        "name": "ipython",
        "version": 3
      },
      "file_extension": ".py",
      "mimetype": "text/x-python",
      "name": "python",
      "nbconvert_exporter": "python",
      "pygments_lexer": "ipython3",
      "version": "3.11.5"
    }
  },
  "nbformat": 4,
  "nbformat_minor": 2
}
