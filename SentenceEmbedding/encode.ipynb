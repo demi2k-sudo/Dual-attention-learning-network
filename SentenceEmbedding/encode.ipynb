{
 "cells": [
  {
   "cell_type": "code",
   "execution_count": 2,
   "metadata": {},
   "outputs": [
    {
     "name": "stdout",
     "output_type": "stream",
     "text": [
      "Defaulting to user installation because normal site-packages is not writeable\n",
      "Requirement already satisfied: sentence_transformers in c:\\users\\naboth demetrius\\appdata\\roaming\\python\\python311\\site-packages (2.2.2)\n",
      "Collecting sentence_transformers\n",
      "  Downloading sentence_transformers-3.0.1-py3-none-any.whl.metadata (10 kB)\n",
      "Collecting transformers<5.0.0,>=4.34.0 (from sentence_transformers)\n",
      "  Downloading transformers-4.44.0-py3-none-any.whl.metadata (43 kB)\n",
      "     ---------------------------------------- 0.0/43.7 kB ? eta -:--:--\n",
      "     ----------------- -------------------- 20.5/43.7 kB 682.7 kB/s eta 0:00:01\n",
      "     -------------------------------------- 43.7/43.7 kB 539.0 kB/s eta 0:00:00\n",
      "Requirement already satisfied: tqdm in c:\\users\\naboth demetrius\\appdata\\roaming\\python\\python311\\site-packages (from sentence_transformers) (4.66.4)\n",
      "Requirement already satisfied: torch>=1.11.0 in c:\\users\\naboth demetrius\\appdata\\roaming\\python\\python311\\site-packages (from sentence_transformers) (2.0.1)\n",
      "Requirement already satisfied: numpy in c:\\users\\naboth demetrius\\appdata\\roaming\\python\\python311\\site-packages (from sentence_transformers) (1.24.4)\n",
      "Requirement already satisfied: scikit-learn in c:\\users\\naboth demetrius\\appdata\\roaming\\python\\python311\\site-packages (from sentence_transformers) (1.3.0)\n",
      "Requirement already satisfied: scipy in c:\\users\\naboth demetrius\\appdata\\roaming\\python\\python311\\site-packages (from sentence_transformers) (1.11.2)\n",
      "Requirement already satisfied: huggingface-hub>=0.15.1 in c:\\users\\naboth demetrius\\appdata\\roaming\\python\\python311\\site-packages (from sentence_transformers) (0.24.5)\n",
      "Requirement already satisfied: Pillow in c:\\users\\naboth demetrius\\appdata\\roaming\\python\\python311\\site-packages (from sentence_transformers) (9.5.0)\n",
      "Requirement already satisfied: filelock in c:\\users\\naboth demetrius\\appdata\\roaming\\python\\python311\\site-packages (from huggingface-hub>=0.15.1->sentence_transformers) (3.12.3)\n",
      "Requirement already satisfied: fsspec>=2023.5.0 in c:\\users\\naboth demetrius\\appdata\\roaming\\python\\python311\\site-packages (from huggingface-hub>=0.15.1->sentence_transformers) (2024.5.0)\n",
      "Requirement already satisfied: packaging>=20.9 in c:\\users\\naboth demetrius\\appdata\\roaming\\python\\python311\\site-packages (from huggingface-hub>=0.15.1->sentence_transformers) (23.2)\n",
      "Requirement already satisfied: pyyaml>=5.1 in c:\\programdata\\anaconda3\\lib\\site-packages (from huggingface-hub>=0.15.1->sentence_transformers) (6.0)\n",
      "Requirement already satisfied: requests in c:\\users\\naboth demetrius\\appdata\\roaming\\python\\python311\\site-packages (from huggingface-hub>=0.15.1->sentence_transformers) (2.32.3)\n",
      "Requirement already satisfied: typing-extensions>=3.7.4.3 in c:\\programdata\\anaconda3\\lib\\site-packages (from huggingface-hub>=0.15.1->sentence_transformers) (4.7.1)\n",
      "Requirement already satisfied: sympy in c:\\users\\naboth demetrius\\appdata\\roaming\\python\\python311\\site-packages (from torch>=1.11.0->sentence_transformers) (1.12)\n",
      "Requirement already satisfied: networkx in c:\\users\\naboth demetrius\\appdata\\roaming\\python\\python311\\site-packages (from torch>=1.11.0->sentence_transformers) (3.1)\n",
      "Requirement already satisfied: jinja2 in c:\\users\\naboth demetrius\\appdata\\roaming\\python\\python311\\site-packages (from torch>=1.11.0->sentence_transformers) (3.1.2)\n",
      "Requirement already satisfied: colorama in c:\\users\\naboth demetrius\\appdata\\roaming\\python\\python311\\site-packages (from tqdm->sentence_transformers) (0.4.6)\n",
      "Requirement already satisfied: regex!=2019.12.17 in c:\\users\\naboth demetrius\\appdata\\roaming\\python\\python311\\site-packages (from transformers<5.0.0,>=4.34.0->sentence_transformers) (2023.8.8)\n",
      "Collecting safetensors>=0.4.1 (from transformers<5.0.0,>=4.34.0->sentence_transformers)\n",
      "  Downloading safetensors-0.4.4-cp311-none-win_amd64.whl.metadata (3.9 kB)\n",
      "Collecting tokenizers<0.20,>=0.19 (from transformers<5.0.0,>=4.34.0->sentence_transformers)\n",
      "  Downloading tokenizers-0.19.1-cp311-none-win_amd64.whl.metadata (6.9 kB)\n",
      "Requirement already satisfied: joblib>=1.1.1 in c:\\users\\naboth demetrius\\appdata\\roaming\\python\\python311\\site-packages (from scikit-learn->sentence_transformers) (1.3.2)\n",
      "Requirement already satisfied: threadpoolctl>=2.0.0 in c:\\users\\naboth demetrius\\appdata\\roaming\\python\\python311\\site-packages (from scikit-learn->sentence_transformers) (3.2.0)\n",
      "Requirement already satisfied: MarkupSafe>=2.0 in c:\\users\\naboth demetrius\\appdata\\roaming\\python\\python311\\site-packages (from jinja2->torch>=1.11.0->sentence_transformers) (2.1.3)\n",
      "Requirement already satisfied: charset-normalizer<4,>=2 in c:\\users\\naboth demetrius\\appdata\\roaming\\python\\python311\\site-packages (from requests->huggingface-hub>=0.15.1->sentence_transformers) (3.2.0)\n",
      "Requirement already satisfied: idna<4,>=2.5 in c:\\users\\naboth demetrius\\appdata\\roaming\\python\\python311\\site-packages (from requests->huggingface-hub>=0.15.1->sentence_transformers) (3.4)\n",
      "Requirement already satisfied: urllib3<3,>=1.21.1 in c:\\users\\naboth demetrius\\appdata\\roaming\\python\\python311\\site-packages (from requests->huggingface-hub>=0.15.1->sentence_transformers) (2.2.2)\n",
      "Requirement already satisfied: certifi>=2017.4.17 in c:\\users\\naboth demetrius\\appdata\\roaming\\python\\python311\\site-packages (from requests->huggingface-hub>=0.15.1->sentence_transformers) (2023.7.22)\n",
      "Requirement already satisfied: mpmath>=0.19 in c:\\users\\naboth demetrius\\appdata\\roaming\\python\\python311\\site-packages (from sympy->torch>=1.11.0->sentence_transformers) (1.3.0)\n",
      "Downloading sentence_transformers-3.0.1-py3-none-any.whl (227 kB)\n",
      "   ---------------------------------------- 0.0/227.1 kB ? eta -:--:--\n",
      "   --------------------------- ------------ 153.6/227.1 kB 4.5 MB/s eta 0:00:01\n",
      "   ---------------------------------------- 227.1/227.1 kB 3.4 MB/s eta 0:00:00\n",
      "Downloading transformers-4.44.0-py3-none-any.whl (9.5 MB)\n",
      "   ---------------------------------------- 0.0/9.5 MB ? eta -:--:--\n",
      "   - -------------------------------------- 0.4/9.5 MB 11.6 MB/s eta 0:00:01\n",
      "   -- ------------------------------------- 0.6/9.5 MB 7.4 MB/s eta 0:00:02\n",
      "   --- ------------------------------------ 0.8/9.5 MB 6.3 MB/s eta 0:00:02\n",
      "   ---- ----------------------------------- 1.0/9.5 MB 5.8 MB/s eta 0:00:02\n",
      "   ----- ---------------------------------- 1.2/9.5 MB 5.5 MB/s eta 0:00:02\n",
      "   ------ --------------------------------- 1.4/9.5 MB 5.4 MB/s eta 0:00:02\n",
      "   ------ --------------------------------- 1.6/9.5 MB 5.2 MB/s eta 0:00:02\n",
      "   ------- -------------------------------- 1.9/9.5 MB 5.2 MB/s eta 0:00:02\n",
      "   -------- ------------------------------- 2.1/9.5 MB 5.1 MB/s eta 0:00:02\n",
      "   --------- ------------------------------ 2.3/9.5 MB 4.9 MB/s eta 0:00:02\n",
      "   ---------- ----------------------------- 2.5/9.5 MB 5.0 MB/s eta 0:00:02\n",
      "   ----------- ---------------------------- 2.7/9.5 MB 4.9 MB/s eta 0:00:02\n",
      "   ------------ --------------------------- 2.9/9.5 MB 4.9 MB/s eta 0:00:02\n",
      "   ------------- -------------------------- 3.1/9.5 MB 4.9 MB/s eta 0:00:02\n",
      "   -------------- ------------------------- 3.3/9.5 MB 4.8 MB/s eta 0:00:02\n",
      "   -------------- ------------------------- 3.5/9.5 MB 4.8 MB/s eta 0:00:02\n",
      "   --------------- ------------------------ 3.7/9.5 MB 4.8 MB/s eta 0:00:02\n",
      "   ---------------- ----------------------- 4.0/9.5 MB 4.8 MB/s eta 0:00:02\n",
      "   ----------------- ---------------------- 4.2/9.5 MB 4.8 MB/s eta 0:00:02\n",
      "   ------------------ --------------------- 4.4/9.5 MB 4.7 MB/s eta 0:00:02\n",
      "   ------------------- -------------------- 4.6/9.5 MB 4.7 MB/s eta 0:00:02\n",
      "   -------------------- ------------------- 4.8/9.5 MB 4.7 MB/s eta 0:00:01\n",
      "   --------------------- ------------------ 5.0/9.5 MB 4.7 MB/s eta 0:00:01\n",
      "   ---------------------- ----------------- 5.2/9.5 MB 4.7 MB/s eta 0:00:01\n",
      "   ----------------------- ---------------- 5.4/9.5 MB 4.7 MB/s eta 0:00:01\n",
      "   ----------------------- ---------------- 5.7/9.5 MB 4.7 MB/s eta 0:00:01\n",
      "   ------------------------ --------------- 5.9/9.5 MB 4.7 MB/s eta 0:00:01\n",
      "   ------------------------- -------------- 6.1/9.5 MB 4.7 MB/s eta 0:00:01\n",
      "   -------------------------- ------------- 6.3/9.5 MB 4.7 MB/s eta 0:00:01\n",
      "   --------------------------- ------------ 6.5/9.5 MB 4.7 MB/s eta 0:00:01\n",
      "   ---------------------------- ----------- 6.7/9.5 MB 4.7 MB/s eta 0:00:01\n",
      "   ----------------------------- ---------- 6.9/9.5 MB 4.7 MB/s eta 0:00:01\n",
      "   ------------------------------ --------- 7.1/9.5 MB 4.7 MB/s eta 0:00:01\n",
      "   ------------------------------- -------- 7.4/9.5 MB 4.7 MB/s eta 0:00:01\n",
      "   ------------------------------- -------- 7.6/9.5 MB 4.7 MB/s eta 0:00:01\n",
      "   -------------------------------- ------- 7.8/9.5 MB 4.6 MB/s eta 0:00:01\n",
      "   --------------------------------- ------ 8.0/9.5 MB 4.6 MB/s eta 0:00:01\n",
      "   ---------------------------------- ----- 8.2/9.5 MB 4.6 MB/s eta 0:00:01\n",
      "   ----------------------------------- ---- 8.4/9.5 MB 4.6 MB/s eta 0:00:01\n",
      "   ------------------------------------ --- 8.6/9.5 MB 4.6 MB/s eta 0:00:01\n",
      "   ------------------------------------- -- 8.8/9.5 MB 4.6 MB/s eta 0:00:01\n",
      "   -------------------------------------- - 9.1/9.5 MB 4.6 MB/s eta 0:00:01\n",
      "   ---------------------------------------  9.3/9.5 MB 4.6 MB/s eta 0:00:01\n",
      "   ---------------------------------------  9.5/9.5 MB 4.6 MB/s eta 0:00:01\n",
      "   ---------------------------------------- 9.5/9.5 MB 4.6 MB/s eta 0:00:00\n",
      "Downloading safetensors-0.4.4-cp311-none-win_amd64.whl (285 kB)\n",
      "   ---------------------------------------- 0.0/286.0 kB ? eta -:--:--\n",
      "   ---------------------------------------- 286.0/286.0 kB 8.9 MB/s eta 0:00:00\n",
      "Downloading tokenizers-0.19.1-cp311-none-win_amd64.whl (2.2 MB)\n",
      "   ---------------------------------------- 0.0/2.2 MB ? eta -:--:--\n",
      "   ----- ---------------------------------- 0.3/2.2 MB 8.9 MB/s eta 0:00:01\n",
      "   ----------- ---------------------------- 0.6/2.2 MB 8.1 MB/s eta 0:00:01\n",
      "   --------------- ------------------------ 0.9/2.2 MB 6.8 MB/s eta 0:00:01\n",
      "   ------------------- -------------------- 1.1/2.2 MB 6.2 MB/s eta 0:00:01\n",
      "   ----------------------- ---------------- 1.3/2.2 MB 5.8 MB/s eta 0:00:01\n",
      "   -------------------------- ------------- 1.5/2.2 MB 5.6 MB/s eta 0:00:01\n",
      "   ------------------------------ --------- 1.7/2.2 MB 5.4 MB/s eta 0:00:01\n",
      "   ---------------------------------- ----- 1.9/2.2 MB 5.3 MB/s eta 0:00:01\n",
      "   -------------------------------------- - 2.1/2.2 MB 5.2 MB/s eta 0:00:01\n",
      "   ---------------------------------------- 2.2/2.2 MB 5.1 MB/s eta 0:00:00\n",
      "Installing collected packages: safetensors, tokenizers, transformers, sentence_transformers\n",
      "  Attempting uninstall: safetensors\n",
      "    Found existing installation: safetensors 0.3.3\n",
      "    Uninstalling safetensors-0.3.3:\n",
      "      Successfully uninstalled safetensors-0.3.3\n",
      "  Attempting uninstall: sentence_transformers\n",
      "    Found existing installation: sentence-transformers 2.2.2\n",
      "    Uninstalling sentence-transformers-2.2.2:\n",
      "      Successfully uninstalled sentence-transformers-2.2.2\n",
      "Successfully installed safetensors-0.4.4 sentence_transformers-3.0.1 tokenizers-0.19.1 transformers-4.44.0\n",
      "Note: you may need to restart the kernel to use updated packages.\n"
     ]
    },
    {
     "name": "stderr",
     "output_type": "stream",
     "text": [
      "  WARNING: The script transformers-cli.exe is installed in 'C:\\Users\\Naboth Demetrius\\AppData\\Roaming\\Python\\Python311\\Scripts' which is not on PATH.\n",
      "  Consider adding this directory to PATH or, if you prefer to suppress this warning, use --no-warn-script-location.\n",
      "\n",
      "[notice] A new release of pip is available: 23.3 -> 24.2\n",
      "[notice] To update, run: python.exe -m pip install --upgrade pip\n"
     ]
    }
   ],
   "source": [
    "pip install -U sentence_transformers"
   ]
  },
  {
   "cell_type": "code",
   "execution_count": 4,
   "metadata": {},
   "outputs": [
    {
     "name": "stdout",
     "output_type": "stream",
     "text": [
      "./models\n"
     ]
    }
   ],
   "source": [
    "import os\n",
    "\n",
    "# Set the environment variable for the current process\n",
    "os.environ[\"SENTENCE_TRANSFORMERS_HOME\"] = \"./models\"\n",
    "\n",
    "# Access the value\n",
    "print(os.environ[\"SENTENCE_TRANSFORMERS_HOME\"])\n"
   ]
  },
  {
   "cell_type": "code",
   "execution_count": 11,
   "metadata": {},
   "outputs": [],
   "source": [
    "from sentence_transformers import SentenceTransformer\n",
    "\n",
    "# Load https://huggingface.co/sentence-transformers/all-mpnet-base-v2\n",
    "model = SentenceTransformer(\"all-mpnet-base-v2\")\n",
    "embeddings = model.encode([\n",
    "    \"The weather is lovely today.\",\n",
    "    \"It's so sunny outside!\",\n",
    "    \"He drove to the stadium.\",\n",
    "])\n",
    "similarities = model.similarity(embeddings, embeddings)"
   ]
  },
  {
   "cell_type": "code",
   "execution_count": 12,
   "metadata": {},
   "outputs": [
    {
     "data": {
      "text/plain": [
       "768"
      ]
     },
     "execution_count": 12,
     "metadata": {},
     "output_type": "execute_result"
    }
   ],
   "source": [
    "len(embeddings[0])"
   ]
  },
  {
   "cell_type": "code",
   "execution_count": null,
   "metadata": {},
   "outputs": [],
   "source": []
  }
 ],
 "metadata": {
  "kernelspec": {
   "display_name": "base",
   "language": "python",
   "name": "python3"
  },
  "language_info": {
   "codemirror_mode": {
    "name": "ipython",
    "version": 3
   },
   "file_extension": ".py",
   "mimetype": "text/x-python",
   "name": "python",
   "nbconvert_exporter": "python",
   "pygments_lexer": "ipython3",
   "version": "3.11.5"
  }
 },
 "nbformat": 4,
 "nbformat_minor": 2
}
